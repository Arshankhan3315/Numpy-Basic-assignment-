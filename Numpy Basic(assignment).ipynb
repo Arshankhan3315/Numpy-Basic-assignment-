{
 "cells": [
  {
   "cell_type": "markdown",
   "id": "b9be8483-c364-411c-aa5e-c71e3b72eb37",
   "metadata": {},
   "source": [
    "# Numpy Basic assignment"
   ]
  },
  {
   "cell_type": "markdown",
   "id": "418d65ba-fea4-4e27-844f-0746a6b6ef7b",
   "metadata": {},
   "source": [
    "# Consider the below code to answer further questions:\n",
    "# import numpy as np\n",
    "list_ = [ ‘1’ , ’2’ , ‘3’ , ‘4’ , ‘5’ ]\n",
    "array_list = np.array(object = list_)"
   ]
  },
  {
   "cell_type": "code",
   "execution_count": 1,
   "id": "c6d34e57-315f-4d20-9a96-281334d677ec",
   "metadata": {},
   "outputs": [],
   "source": [
    "import numpy as np"
   ]
  },
  {
   "cell_type": "code",
   "execution_count": 2,
   "id": "0134bd28-2afd-4be3-a0a8-b8369ff69234",
   "metadata": {},
   "outputs": [],
   "source": [
    "list_=['1','2','3','4','5']"
   ]
  },
  {
   "cell_type": "code",
   "execution_count": 3,
   "id": "42043dd6-2c71-4a59-97e7-294197f8857b",
   "metadata": {},
   "outputs": [
    {
     "data": {
      "text/plain": [
       "['1', '2', '3', '4', '5']"
      ]
     },
     "execution_count": 3,
     "metadata": {},
     "output_type": "execute_result"
    }
   ],
   "source": [
    "list_"
   ]
  },
  {
   "cell_type": "code",
   "execution_count": 4,
   "id": "e2d23286-9d68-4cf1-a0c7-1cda1336977f",
   "metadata": {},
   "outputs": [],
   "source": [
    "array_list=np.array(object =list_)"
   ]
  },
  {
   "cell_type": "code",
   "execution_count": 5,
   "id": "4f052e95-34cd-4444-b8ab-d0d7a978bd46",
   "metadata": {},
   "outputs": [
    {
     "data": {
      "text/plain": [
       "array(['1', '2', '3', '4', '5'], dtype='<U1')"
      ]
     },
     "execution_count": 5,
     "metadata": {},
     "output_type": "execute_result"
    }
   ],
   "source": [
    "array_list"
   ]
  },
  {
   "cell_type": "markdown",
   "id": "400189c9-5b4f-4770-980e-6553d8b5e55e",
   "metadata": {},
   "source": [
    "# Q1. Is there any difference in the data type of variables list_ and array_list? If there is then write a code to print the data types of both the variables."
   ]
  },
  {
   "cell_type": "markdown",
   "id": "0a555dbf-b711-4654-96dd-aaeb665def86",
   "metadata": {},
   "source": [
    "# Answer-1-In this corrected code, we have used single quotes (' ') to properly represent strings in the list_. We then create a NumPy array, array_list, from this list. The data type of list_ is a Python list, and the data type of array_list is a NumPy array."
   ]
  },
  {
   "cell_type": "code",
   "execution_count": 6,
   "id": "e63b4dac-8c0e-4363-b3f7-605edaacaaab",
   "metadata": {},
   "outputs": [
    {
     "data": {
      "text/plain": [
       "list"
      ]
     },
     "execution_count": 6,
     "metadata": {},
     "output_type": "execute_result"
    }
   ],
   "source": [
    "type(list_)"
   ]
  },
  {
   "cell_type": "code",
   "execution_count": 7,
   "id": "f3bd3cc8-0b06-4608-920c-d878ec35db91",
   "metadata": {},
   "outputs": [
    {
     "data": {
      "text/plain": [
       "numpy.ndarray"
      ]
     },
     "execution_count": 7,
     "metadata": {},
     "output_type": "execute_result"
    }
   ],
   "source": [
    "type(array_list)"
   ]
  },
  {
   "cell_type": "markdown",
   "id": "b9692aba-83a6-4d4f-b0ea-2d110ded90cb",
   "metadata": {},
   "source": [
    "# Q2. Write a code to print the data type of each and every element of both the variables list_ and arra_list."
   ]
  },
  {
   "cell_type": "markdown",
   "id": "5e4847a0-9ac2-45f2-9564-6269c433c9ba",
   "metadata": {},
   "source": [
    "# Answer-2"
   ]
  },
  {
   "cell_type": "code",
   "execution_count": 8,
   "id": "974c76d5-7eb5-4185-b629-18f6d5afeb91",
   "metadata": {},
   "outputs": [
    {
     "name": "stdout",
     "output_type": "stream",
     "text": [
      "Data type of element in list_: 1 - <class 'str'>\n",
      "Data type of element in list_: 2 - <class 'str'>\n",
      "Data type of element in list_: 3 - <class 'str'>\n",
      "Data type of element in list_: 4 - <class 'str'>\n",
      "Data type of element in list_: 5 - <class 'str'>\n",
      "Data type of element in array_list: 1 - <class 'numpy.str_'>\n",
      "Data type of element in array_list: 2 - <class 'numpy.str_'>\n",
      "Data type of element in array_list: 3 - <class 'numpy.str_'>\n",
      "Data type of element in array_list: 4 - <class 'numpy.str_'>\n",
      "Data type of element in array_list: 5 - <class 'numpy.str_'>\n"
     ]
    }
   ],
   "source": [
    "for elem in list_:\n",
    "    print(f\"Data type of element in list_: {elem} - {type(elem)}\")\n",
    "\n",
    "for elem in array_list:\n",
    "    print(f\"Data type of element in array_list: {elem} - {type(elem)}\")"
   ]
  },
  {
   "cell_type": "markdown",
   "id": "2374bc77-8fb9-4cf0-bc5b-3b1165704aba",
   "metadata": {},
   "source": [
    "# Question-3-Q3. Considering the following changes in the variable, array_list: array_list = np.array(object = list_, dtype = int)\n",
    "# Will there be any difference in the data type of the elements present in both the variables, list_ and arra_list? If so then print the data types of each and every element present in both the variables, list_ and arra_list.\n",
    "# Consider the below code to answer further questions:\n",
    "import numpy as np\n",
    "num_list = [ [ 1 , 2 , 3 ] , [ 4 , 5 , 6 ] ]\n",
    "num_array = np.array(object = num_list)"
   ]
  },
  {
   "cell_type": "markdown",
   "id": "928b69d5-56a7-46b5-84fe-114e27c32227",
   "metadata": {},
   "source": [
    "# Answer-3-"
   ]
  },
  {
   "cell_type": "code",
   "execution_count": 9,
   "id": "9c4a2c35-fe6c-4a8f-979b-574b847704bc",
   "metadata": {},
   "outputs": [],
   "source": [
    "array_list = np.array(object = list_, dtype = int)"
   ]
  },
  {
   "cell_type": "code",
   "execution_count": 10,
   "id": "248a5a95-57c2-4ca1-a216-4cd9a61243b2",
   "metadata": {},
   "outputs": [
    {
     "data": {
      "text/plain": [
       "array([1, 2, 3, 4, 5])"
      ]
     },
     "execution_count": 10,
     "metadata": {},
     "output_type": "execute_result"
    }
   ],
   "source": [
    "array_list"
   ]
  },
  {
   "cell_type": "code",
   "execution_count": 11,
   "id": "7f7988a9-6014-4c9a-8a82-823603fedae1",
   "metadata": {},
   "outputs": [
    {
     "name": "stdout",
     "output_type": "stream",
     "text": [
      "Data type of element in list_: 1 - <class 'str'>\n",
      "Data type of element in list_: 2 - <class 'str'>\n",
      "Data type of element in list_: 3 - <class 'str'>\n",
      "Data type of element in list_: 4 - <class 'str'>\n",
      "Data type of element in list_: 5 - <class 'str'>\n",
      "Data type of element in array_list: 1 - <class 'numpy.int64'>\n",
      "Data type of element in array_list: 2 - <class 'numpy.int64'>\n",
      "Data type of element in array_list: 3 - <class 'numpy.int64'>\n",
      "Data type of element in array_list: 4 - <class 'numpy.int64'>\n",
      "Data type of element in array_list: 5 - <class 'numpy.int64'>\n"
     ]
    }
   ],
   "source": [
    "for elem in list_:\n",
    "    print(f\"Data type of element in list_: {elem} - {type(elem)}\")\n",
    "\n",
    "for elem in array_list:\n",
    "    print(f\"Data type of element in array_list: {elem} - {type(elem)}\")"
   ]
  },
  {
   "cell_type": "markdown",
   "id": "23ee1fc2-2430-45d7-8cd4-69245e666688",
   "metadata": {},
   "source": [
    "# Consider the below code to answer further questions:\n",
    "import numpy as np\n",
    "num_list = [ [ 1 , 2 , 3 ] , [ 4 , 5 , 6 ] ]\n",
    "num_array = np.array(object = num_list)"
   ]
  },
  {
   "cell_type": "code",
   "execution_count": 12,
   "id": "7cf316ea-1a18-4d02-816d-0b16c216b01c",
   "metadata": {},
   "outputs": [],
   "source": [
    "num_list =[[1,2,3],[4,5,6]]"
   ]
  },
  {
   "cell_type": "code",
   "execution_count": 13,
   "id": "86b41a80-4623-4905-983e-08f2a08c8756",
   "metadata": {},
   "outputs": [],
   "source": [
    "num_array =np.array(object=num_list)"
   ]
  },
  {
   "cell_type": "code",
   "execution_count": 14,
   "id": "11c243f5-e9ff-4f4a-a373-f1cf0a099006",
   "metadata": {},
   "outputs": [
    {
     "data": {
      "text/plain": [
       "[[1, 2, 3], [4, 5, 6]]"
      ]
     },
     "execution_count": 14,
     "metadata": {},
     "output_type": "execute_result"
    }
   ],
   "source": [
    "num_list"
   ]
  },
  {
   "cell_type": "code",
   "execution_count": 15,
   "id": "b8e8eec4-7a5d-4bf1-9f57-da7adaf79b4a",
   "metadata": {},
   "outputs": [
    {
     "data": {
      "text/plain": [
       "array([[1, 2, 3],\n",
       "       [4, 5, 6]])"
      ]
     },
     "execution_count": 15,
     "metadata": {},
     "output_type": "execute_result"
    }
   ],
   "source": [
    "num_array"
   ]
  },
  {
   "cell_type": "markdown",
   "id": "b3ae390b-ef98-431f-a667-70bd591b6194",
   "metadata": {},
   "source": [
    "# Q4. Write a code to find the following characteristics of variable, num_array:\n",
    "# (i) arr.shape\n",
    "# (ii) arr.size"
   ]
  },
  {
   "cell_type": "markdown",
   "id": "bab0b7e1-bfef-43b5-a589-97f92840d8e2",
   "metadata": {},
   "source": [
    "# Answer-4-"
   ]
  },
  {
   "cell_type": "code",
   "execution_count": 16,
   "id": "38e6f8d6-8e36-4c4e-a044-88225cdb1398",
   "metadata": {},
   "outputs": [],
   "source": [
    "shape = num_array.shape"
   ]
  },
  {
   "cell_type": "code",
   "execution_count": 17,
   "id": "a1e409fc-82b1-4ef6-8ce2-5ddaf73b01d0",
   "metadata": {},
   "outputs": [
    {
     "data": {
      "text/plain": [
       "(2, 3)"
      ]
     },
     "execution_count": 17,
     "metadata": {},
     "output_type": "execute_result"
    }
   ],
   "source": [
    "shape"
   ]
  },
  {
   "cell_type": "code",
   "execution_count": 18,
   "id": "9c6952d7-c2b4-446c-b66e-1208ea3af475",
   "metadata": {},
   "outputs": [],
   "source": [
    "size = num_array.size"
   ]
  },
  {
   "cell_type": "code",
   "execution_count": 19,
   "id": "94180d28-24b0-4b56-84c8-fa50664c1295",
   "metadata": {},
   "outputs": [
    {
     "data": {
      "text/plain": [
       "6"
      ]
     },
     "execution_count": 19,
     "metadata": {},
     "output_type": "execute_result"
    }
   ],
   "source": [
    "size"
   ]
  },
  {
   "cell_type": "markdown",
   "id": "2aa1689e-0d51-4d02-bb6a-6edcb52f36fc",
   "metadata": {},
   "source": [
    "# Q5. Write a code to create numpy array of 3*3 matrix containing zeros only, using a numpy array creation function.\n",
    "[Hint: The size of the array will be 9 and the shape will be (3,3).] # data=np.random.randint(0,1,(3,3))"
   ]
  },
  {
   "cell_type": "markdown",
   "id": "59668595-68fd-42ad-8173-e09207471640",
   "metadata": {},
   "source": [
    "# answer-5-"
   ]
  },
  {
   "cell_type": "code",
   "execution_count": 27,
   "id": "546791b5-26e8-401e-8d9e-4c8954e77842",
   "metadata": {},
   "outputs": [],
   "source": [
    "data=np.random.randint(0,1,(3,3))"
   ]
  },
  {
   "cell_type": "code",
   "execution_count": 28,
   "id": "d817f68d-6b3f-4fcb-952d-10f34d0e1ef9",
   "metadata": {},
   "outputs": [
    {
     "data": {
      "text/plain": [
       "array([[0, 0, 0],\n",
       "       [0, 0, 0],\n",
       "       [0, 0, 0]])"
      ]
     },
     "execution_count": 28,
     "metadata": {},
     "output_type": "execute_result"
    }
   ],
   "source": [
    "data"
   ]
  },
  {
   "cell_type": "code",
   "execution_count": 30,
   "id": "726c7e12-6a40-4e0b-95fb-719ab83a0fe3",
   "metadata": {},
   "outputs": [
    {
     "data": {
      "text/plain": [
       "array([[0., 0., 0.],\n",
       "       [0., 0., 0.],\n",
       "       [0., 0., 0.]])"
      ]
     },
     "execution_count": 30,
     "metadata": {},
     "output_type": "execute_result"
    }
   ],
   "source": [
    "np.zeros((3,3))"
   ]
  },
  {
   "cell_type": "markdown",
   "id": "c1c65cf0-cfa3-411b-8666-d80d83b3955a",
   "metadata": {},
   "source": [
    "# Q6. Create an identity matrix of shape (5,5) using numpy functions?\n",
    "[Hint: An identity matrix is a matrix containing 1 diagonally and other elements will be 0.]\n",
    "data1=np.diag([1,1,1,1,1,]) for diagonal"
   ]
  },
  {
   "cell_type": "markdown",
   "id": "30cf1303-e922-4b08-ae33-a432ac8037bf",
   "metadata": {},
   "source": [
    "# answer-6-"
   ]
  },
  {
   "cell_type": "code",
   "execution_count": 35,
   "id": "879a93de-3ee3-4608-b343-b9e027516021",
   "metadata": {},
   "outputs": [
    {
     "name": "stdout",
     "output_type": "stream",
     "text": [
      "5x5 Identity Matrix:\n",
      " [[1. 0. 0. 0. 0.]\n",
      " [0. 1. 0. 0. 0.]\n",
      " [0. 0. 1. 0. 0.]\n",
      " [0. 0. 0. 1. 0.]\n",
      " [0. 0. 0. 0. 1.]]\n"
     ]
    }
   ],
   "source": [
    "identity_matrix = np.eye(5)\n",
    "print(\"5x5 Identity Matrix:\\n\", identity_matrix)"
   ]
  },
  {
   "cell_type": "code",
   "execution_count": 36,
   "id": "c892c2cc-aa37-41f3-a4df-c266ed138277",
   "metadata": {},
   "outputs": [],
   "source": [
    "data1=np.diag([1,1,1,1,1,])"
   ]
  },
  {
   "cell_type": "code",
   "execution_count": 37,
   "id": "bf6d3a23-7ef7-484a-8a0d-fee8fe1487cf",
   "metadata": {},
   "outputs": [
    {
     "data": {
      "text/plain": [
       "array([[1, 0, 0, 0, 0],\n",
       "       [0, 1, 0, 0, 0],\n",
       "       [0, 0, 1, 0, 0],\n",
       "       [0, 0, 0, 1, 0],\n",
       "       [0, 0, 0, 0, 1]])"
      ]
     },
     "execution_count": 37,
     "metadata": {},
     "output_type": "execute_result"
    }
   ],
   "source": [
    "data1"
   ]
  },
  {
   "cell_type": "markdown",
   "id": "2f7b991d-b733-4b47-ae55-44652dcef88f",
   "metadata": {},
   "source": [
    "# Assignment Completed"
   ]
  },
  {
   "cell_type": "code",
   "execution_count": null,
   "id": "ed9cd57f-0d08-4b51-b319-8cf3c24011fb",
   "metadata": {},
   "outputs": [],
   "source": []
  }
 ],
 "metadata": {
  "kernelspec": {
   "display_name": "Python 3 (ipykernel)",
   "language": "python",
   "name": "python3"
  },
  "language_info": {
   "codemirror_mode": {
    "name": "ipython",
    "version": 3
   },
   "file_extension": ".py",
   "mimetype": "text/x-python",
   "name": "python",
   "nbconvert_exporter": "python",
   "pygments_lexer": "ipython3",
   "version": "3.10.8"
  }
 },
 "nbformat": 4,
 "nbformat_minor": 5
}
